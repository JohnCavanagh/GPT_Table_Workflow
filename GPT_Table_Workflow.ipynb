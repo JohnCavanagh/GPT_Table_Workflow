{
 "cells": [
  {
   "cell_type": "markdown",
   "id": "de288c12",
   "metadata": {},
   "source": [
    "# GPT Table Workflow Demo\n",
    "## Purpose\n",
    "This workbook provides a demo of using the GPT-4o API in order to scrape statistics from paper tables. It takes in a JAMA paper url (https://jamanetwork.com/journals/jamanetworkopen/fullarticle/2820561), downloads images of the tables and figures from it, sends to GPT to determine if they are tables or figures, and then scrapes statistics from the figures."
   ]
  },
  {
   "cell_type": "markdown",
   "id": "4a445fdb",
   "metadata": {},
   "source": [
    "## Set-up\n",
    "The main packages we use are requests/bs4 for scraping, and openai, requests, and json for sending requests to the GPT API and formatting the response"
   ]
  },
  {
   "cell_type": "code",
   "execution_count": 2,
   "id": "7add3406",
   "metadata": {},
   "outputs": [
    {
     "name": "stderr",
     "output_type": "stream",
     "text": [
      "/var/folders/4j/yd1_fm0x62z55b77ssyj41y00000gn/T/ipykernel_32185/3470220223.py:5: DeprecationWarning: \n",
      "Pyarrow will become a required dependency of pandas in the next major release of pandas (pandas 3.0),\n",
      "(to allow more performant data types, such as the Arrow string type, and better interoperability with other libraries)\n",
      "but was not found to be installed on your system.\n",
      "If this would cause problems for you,\n",
      "please provide us feedback at https://github.com/pandas-dev/pandas/issues/54466\n",
      "        \n",
      "  import pandas as pd\n",
      "None of PyTorch, TensorFlow >= 2.0, or Flax have been found. Models won't be available and only tokenizers, configuration and file/data utilities can be used.\n"
     ]
    }
   ],
   "source": [
    "import os\n",
    "\n",
    "os.chdir(\"/Users/jackcavanagh/Documents\")\n",
    "\n",
    "import pandas as pd\n",
    "import numpy as np\n",
    "import openai\n",
    "import json\n",
    "EMBEDDING_MODEL = 'text-embedding-ada-002'\n",
    "COMPLETIONS_MODEL = \"gpt-4o\"\n",
    "import requests\n",
    "from bs4 import BeautifulSoup"
   ]
  },
  {
   "cell_type": "markdown",
   "id": "182b3812-7688-4885-987e-567ac271c264",
   "metadata": {},
   "source": [
    "### Step 1: Extracting HTML from paper page\n",
    "We first get the html code from the paper page so that we have links for the associated tables/figures"
   ]
  },
  {
   "cell_type": "code",
   "execution_count": 8,
   "id": "d02357e4-f73d-4b24-8bfb-750f2a732be3",
   "metadata": {},
   "outputs": [],
   "source": [
    "article_url = 'https://jamanetwork.com/journals/jamanetworkopen/fullarticle/2820561'\n",
    "headers = {'User-Agent': 'Mozilla/5.0 (Windows NT 10.0; Win64; x64) AppleWebKit/537.36 (KHTML, like Gecko) Chrome/102.0.0.0 Safari/537.36'}\n",
    "htm = requests.get(url = article_url,headers = headers)\n",
    "soup = BeautifulSoup(htm.content, 'html.parser')"
   ]
  },
  {
   "cell_type": "markdown",
   "id": "b3ff82a6-e702-48e0-86a5-ad7437949367",
   "metadata": {},
   "source": [
    "This is what the html looks like:"
   ]
  },
  {
   "cell_type": "markdown",
   "id": "4ede3bff-bf13-41a5-95c9-ed3ad00f47ca",
   "metadata": {},
   "source": [
    "Then we get the links from the html, but we only care about links that point to images from the paper:"
   ]
  },
  {
   "cell_type": "code",
   "execution_count": 14,
   "id": "70b062bc-eddf-4d4a-8b6a-04c260af69f2",
   "metadata": {},
   "outputs": [],
   "source": [
    "lnks = []\n",
    "divs = soup.find_all(\"a\")\n",
    "for j in divs:\n",
    "    if j.has_attr('href'):\n",
    "        lnks.append(j['href'])\n",
    "fig_tab = []\n",
    "for i in lnks:\n",
    "    if 'https://cdn.jamanetwork.com/ama/content_public/journal/jamanetworkopen' in i and '/downloadimage.aspx?image=' not in i:\n",
    "        fig_tab.append(i)"
   ]
  },
  {
   "cell_type": "markdown",
   "id": "b79dfef0-0865-43e4-9ce9-11d1d8eb5440",
   "metadata": {},
   "source": [
    "This is what they look like:"
   ]
  },
  {
   "cell_type": "code",
   "execution_count": 19,
   "id": "93b65236-23c2-463a-98d7-a6cc8c74843c",
   "metadata": {},
   "outputs": [
    {
     "data": {
      "text/plain": [
       "['https://cdn.jamanetwork.com/ama/content_public/journal/jamanetworkopen/939381/zoi240554va_1719237655.21947.png?Expires=1722611483&Signature=PobBpbTwEgEm2ittvpwKUel9HXdlIJQYZm7FyzvlLQvsO7xLRQ02w44PTIaR-78MYJLa0lHFhmcfMGfVZ38LA-fSOcJ6qnImWEdtvAVSXPoJTVeqUdAIBhmxKVVuM45aFHjjM-yNONO-zsUMEZi9zN9tEPwR51-vUFM5gqcrB1qNIBs8NK8dhMLTAEmT1Qj9HRnoTiazZfRYS33v17MDvef0EUb-1--BpYR3rqTIhqWxEusq8pEk5VwEs2DQNV6KNV0VvQvgamTwYHZWQJD0gH0DhBUoHvZokn45y~gFTu9MXsY3ENGaU5OgctaabGTICzTVll9nhmgYAbUyfxpZNg__&Key-Pair-Id=APKAIE5G5CRDK6RD3PGA',\n",
       " 'https://cdn.jamanetwork.com/ama/content_public/journal/jamanetworkopen/939381/zoi240554va_1719237655.21947.png?Expires=1722611483&Signature=PobBpbTwEgEm2ittvpwKUel9HXdlIJQYZm7FyzvlLQvsO7xLRQ02w44PTIaR-78MYJLa0lHFhmcfMGfVZ38LA-fSOcJ6qnImWEdtvAVSXPoJTVeqUdAIBhmxKVVuM45aFHjjM-yNONO-zsUMEZi9zN9tEPwR51-vUFM5gqcrB1qNIBs8NK8dhMLTAEmT1Qj9HRnoTiazZfRYS33v17MDvef0EUb-1--BpYR3rqTIhqWxEusq8pEk5VwEs2DQNV6KNV0VvQvgamTwYHZWQJD0gH0DhBUoHvZokn45y~gFTu9MXsY3ENGaU5OgctaabGTICzTVll9nhmgYAbUyfxpZNg__&Key-Pair-Id=APKAIE5G5CRDK6RD3PGA',\n",
       " 'https://cdn.jamanetwork.com/ama/content_public/journal/jamanetworkopen/939381/zoi240554f1_1719237655.32946.png?Expires=1722611483&Signature=yCtiCEfwPtA6vpV2~sTyTgqBUgTSM6clpBkqksbAPZTkTUeyE2PBUT~yK2IiJs7dkDBea8pM7aLw1fh7x0zsvlxdJM9A3yfplkOo1YMzsgXF8j7xJhgyFpsFkPI9kMguMWl6logN3mPJUxx9irH3~wgBs~tR7G~lpHBzwgDU~mr-65RpB2lDxrMVRsbhAWVtguFDCBAMxqQ5RU-XXz~POarWwQcXyOPlcKs5NFlhX94XMViAChFsSpDIuo9782DFD-f2hFnfg4SKrxy4TpKhgHUob6cIQJdcLHmwsmZ6GlcSqAdVjjIDj0zpri2SMzok-iNIU21t3YD-MrHIEj0Xqw__&Key-Pair-Id=APKAIE5G5CRDK6RD3PGA',\n",
       " 'https://cdn.jamanetwork.com/ama/content_public/journal/jamanetworkopen/939381/zoi240554f1_1719237655.32946.png?Expires=1722611483&Signature=yCtiCEfwPtA6vpV2~sTyTgqBUgTSM6clpBkqksbAPZTkTUeyE2PBUT~yK2IiJs7dkDBea8pM7aLw1fh7x0zsvlxdJM9A3yfplkOo1YMzsgXF8j7xJhgyFpsFkPI9kMguMWl6logN3mPJUxx9irH3~wgBs~tR7G~lpHBzwgDU~mr-65RpB2lDxrMVRsbhAWVtguFDCBAMxqQ5RU-XXz~POarWwQcXyOPlcKs5NFlhX94XMViAChFsSpDIuo9782DFD-f2hFnfg4SKrxy4TpKhgHUob6cIQJdcLHmwsmZ6GlcSqAdVjjIDj0zpri2SMzok-iNIU21t3YD-MrHIEj0Xqw__&Key-Pair-Id=APKAIE5G5CRDK6RD3PGA',\n",
       " 'https://cdn.jamanetwork.com/ama/content_public/journal/jamanetworkopen/939381/zoi240554f2_1719237655.36623.png?Expires=1722611483&Signature=F5LJC3m5simUzAXfKrGQ-y2dNFweUB4F6r1nEysDBKXkzFZrgoH-1d25GL4TkRz5HxTnS6THWLF9sTNqx6s9~5qQykN6TUvpHLpYnPww0bZYeCYERFKsL72EC0MudPdJI2sjJ3IXkoXqDyHxAQSpDtY~1aBUr4qzXaM3nR4tGgwy1a-f3iwwSRwt74CP-dhSw5CJ4e13-JPPQwEBqnbs4u6tawdG3uUrR7I7zFSpnwcJag33TY2A3EXrfOPQ3Ep3mg5ucTdB83Je8DW-hFyLA74xh3lMIGTVbbzxq8DqKJoQMR6NfefArn2~gYbR1h0Bbqp6Uf4GCLmxmT3BxN24dw__&Key-Pair-Id=APKAIE5G5CRDK6RD3PGA',\n",
       " 'https://cdn.jamanetwork.com/ama/content_public/journal/jamanetworkopen/939381/zoi240554f2_1719237655.36623.png?Expires=1722611483&Signature=F5LJC3m5simUzAXfKrGQ-y2dNFweUB4F6r1nEysDBKXkzFZrgoH-1d25GL4TkRz5HxTnS6THWLF9sTNqx6s9~5qQykN6TUvpHLpYnPww0bZYeCYERFKsL72EC0MudPdJI2sjJ3IXkoXqDyHxAQSpDtY~1aBUr4qzXaM3nR4tGgwy1a-f3iwwSRwt74CP-dhSw5CJ4e13-JPPQwEBqnbs4u6tawdG3uUrR7I7zFSpnwcJag33TY2A3EXrfOPQ3Ep3mg5ucTdB83Je8DW-hFyLA74xh3lMIGTVbbzxq8DqKJoQMR6NfefArn2~gYbR1h0Bbqp6Uf4GCLmxmT3BxN24dw__&Key-Pair-Id=APKAIE5G5CRDK6RD3PGA',\n",
       " 'https://cdn.jamanetwork.com/ama/content_public/journal/jamanetworkopen/939381/zoi240554f3_1719237655.39036.png?Expires=1722611483&Signature=KhquSEDF2NwgAm0pvuwLm9rnlxNCyvE~CBZt5umFFRVxwhaf3R5PItXQE9IrtTZbhfGfMZMlIao2JGmJLRig3IlyOPQ-eYMzeQWfaOZqq3LZ0iGuNU5rhyWc6lVuvJfibqO-hdL1r9uSmez9JSUkQnbGccfnEYFzJ4MTTJ2RXYsiE2iZRHfDWHYdtzdhBcADzJztuDkHahWLGPLhOsPeQz5q~uI8X6yVzQXf38MC5PSF5uzOMoTGYcV2L-3ZN2lELs8wV7erxvYVb8wyz~BflhBYe43jlZCh-HddXzb-PHSCNUf9uM~EGj11KHRVe9hTKom~YYa3fOg1BJ3oBr6BLQ__&Key-Pair-Id=APKAIE5G5CRDK6RD3PGA',\n",
       " 'https://cdn.jamanetwork.com/ama/content_public/journal/jamanetworkopen/939381/zoi240554f3_1719237655.39036.png?Expires=1722611483&Signature=KhquSEDF2NwgAm0pvuwLm9rnlxNCyvE~CBZt5umFFRVxwhaf3R5PItXQE9IrtTZbhfGfMZMlIao2JGmJLRig3IlyOPQ-eYMzeQWfaOZqq3LZ0iGuNU5rhyWc6lVuvJfibqO-hdL1r9uSmez9JSUkQnbGccfnEYFzJ4MTTJ2RXYsiE2iZRHfDWHYdtzdhBcADzJztuDkHahWLGPLhOsPeQz5q~uI8X6yVzQXf38MC5PSF5uzOMoTGYcV2L-3ZN2lELs8wV7erxvYVb8wyz~BflhBYe43jlZCh-HddXzb-PHSCNUf9uM~EGj11KHRVe9hTKom~YYa3fOg1BJ3oBr6BLQ__&Key-Pair-Id=APKAIE5G5CRDK6RD3PGA',\n",
       " 'https://cdn.jamanetwork.com/ama/content_public/journal/jamanetworkopen/939381/zoi240554t1_1719237655.33947.png?Expires=1722611483&Signature=OHBo5ZZk7Xx-T3loqzFxp7gBIuEuelEOKb74EM~1CNwYRdWrkcZ-p~kUhlJEaP8Ij9KkVHar7rjH7IAVrdGkMR95MgCMfZxfO8QfJ~APze3fDeGI4nsfQLJ27q2MrKkYWjptfpvHWXsRAWKzXemfBOmc9RyvGQSxlcipPAQ1PThaucSsx~d8DZcnmd2tvyzbHt88ZnoZ3hTZyKfmIZGkY0btBzWDy9ErjTVDJ17XxL5XV-Bu1kwysduw5KqqqfoeGx7bda0PaH795F3BmUwORBCwxast7K07G3O3bC-aNtJBeqW-i1YgqoO5nOZSz5CRoPpGPgo-HXBRVuhHTW17nA__&Key-Pair-Id=APKAIE5G5CRDK6RD3PGA',\n",
       " 'https://cdn.jamanetwork.com/ama/content_public/journal/jamanetworkopen/939381/zoi240554t1_1719237655.33947.png?Expires=1722611483&Signature=OHBo5ZZk7Xx-T3loqzFxp7gBIuEuelEOKb74EM~1CNwYRdWrkcZ-p~kUhlJEaP8Ij9KkVHar7rjH7IAVrdGkMR95MgCMfZxfO8QfJ~APze3fDeGI4nsfQLJ27q2MrKkYWjptfpvHWXsRAWKzXemfBOmc9RyvGQSxlcipPAQ1PThaucSsx~d8DZcnmd2tvyzbHt88ZnoZ3hTZyKfmIZGkY0btBzWDy9ErjTVDJ17XxL5XV-Bu1kwysduw5KqqqfoeGx7bda0PaH795F3BmUwORBCwxast7K07G3O3bC-aNtJBeqW-i1YgqoO5nOZSz5CRoPpGPgo-HXBRVuhHTW17nA__&Key-Pair-Id=APKAIE5G5CRDK6RD3PGA',\n",
       " 'https://cdn.jamanetwork.com/ama/content_public/journal/jamanetworkopen/939381/zoi240554t2_1719237655.34946.png?Expires=1722611483&Signature=0HZa1yx5~4sFIBa8jryiZyAdMO-uZpQmub3b5tjecYbplQwFtVy9XOZqjqqrZxojoE6ljdNvOLT7VCLkDKgDpCDeKLYrxGOlcb-r8LHifhBxDSaGBlcheIUL-F7TlcKPVg4nKna4ZfBoa5a1sidRcacKwD8BM434CDMYklpyVwm8Lwpa2wWtaSaDFdnL3kQEtDiu6KltYYt1q5kJMfBpJVd4Q-YGjEGLiV0M3~jNP2fAme2y6Nic8DirUhKEtFGTl73CbyA-9O20IfjGIm6BwGqVJQ~N6cshQIqcLEMp-i~J0y75elBZgUpE99dQpLUS2WRagHeNSzeF6cmq-tG41g__&Key-Pair-Id=APKAIE5G5CRDK6RD3PGA',\n",
       " 'https://cdn.jamanetwork.com/ama/content_public/journal/jamanetworkopen/939381/zoi240554t2_1719237655.34946.png?Expires=1722611483&Signature=0HZa1yx5~4sFIBa8jryiZyAdMO-uZpQmub3b5tjecYbplQwFtVy9XOZqjqqrZxojoE6ljdNvOLT7VCLkDKgDpCDeKLYrxGOlcb-r8LHifhBxDSaGBlcheIUL-F7TlcKPVg4nKna4ZfBoa5a1sidRcacKwD8BM434CDMYklpyVwm8Lwpa2wWtaSaDFdnL3kQEtDiu6KltYYt1q5kJMfBpJVd4Q-YGjEGLiV0M3~jNP2fAme2y6Nic8DirUhKEtFGTl73CbyA-9O20IfjGIm6BwGqVJQ~N6cshQIqcLEMp-i~J0y75elBZgUpE99dQpLUS2WRagHeNSzeF6cmq-tG41g__&Key-Pair-Id=APKAIE5G5CRDK6RD3PGA',\n",
       " 'https://cdn.jamanetwork.com/ama/content_public/journal/jamanetworkopen/939381/zoi240554supp1_prod_1719237655.03336.pdf?Expires=1722615449&Signature=3RdgXr80Pk964qmSrcYn3C1gBMYJi0g6PyhlNeGSJJ6VVH6wt9Z1HxLFPtW1PHGVn8K4MGcmyd2eaIzXtw4K-JIprjeEkB5BUW3jqp4CcaZ6G11zFGAXSuJ1KwEbF2p4AquqtktkCjh9o-5pAI5OlE4zmMYa2qVJoraAZhxa4r7e1Vn-T~wCv8FnWVnyAyVBIdZS9-yScI3gm~AMO9hs7LfzaVd3mfXtJ~FColEITCDs9JrDd0aIg4Jl~S29s6uj6n44IPWyqmlCa05FRrk8VwADWRJBsT4x-nLW7IS0BWuNzfwWblP7Z6-0DQlVvU6KKaSjx7c-WNOTxGchEmNRoQ__&Key-Pair-Id=APKAIE5G5CRDK6RD3PGA',\n",
       " 'https://cdn.jamanetwork.com/ama/content_public/journal/jamanetworkopen/939381/zoi240554supp2_prod_1719237655.05837.pdf?Expires=1722615449&Signature=Kbao4~frrSChMbIQMi~QTMtR168rbC96zdnBc0gXK~BOJXz0-MBPhWL31xLebGmiD9Wji0tebwCLqvg5GT-iQuTdi7LLtcwJqEfUM7gKWP93mLHFV8yOyepqtL-FYlAJAWEpwKuhhRgB9L2oklQqGPlJUCRAyrVZJ56SKYLNQ-I04GfnHTcpOrl2exGwl6ET7SJabk8KsHvx94uO8QbiWiVqdsLrxcCrgfmnMKN~ZnvbjbtTB7bOtL7qJjTART~SVB7GWIjkaK04rcbk8O1OPuc4WbLUWmz7mWVzrqNDTOb-PRjhxqE1J~1-36uzYS~3V8eiBUXgetxvYP8f23Ksxg__&Key-Pair-Id=APKAIE5G5CRDK6RD3PGA',\n",
       " 'https://cdn.jamanetwork.com/ama/content_public/journal/jamanetworkopen/939381/zoi240554supp3_prod_1719237655.08836.pdf?Expires=1722615449&Signature=31bFSQ854DbFhZmWOq2Pxej1u6H1M3F0psAoDliygJ75xEpeZkl~Q6L96DxYeQpY-smlSNgcfMl3vYWytnL6hGbO8jy2DPrKc1TcTR1vrR65cLck0fEBaMa9MPCHxZR-nVy2Zqmhf7ffTQL7FbMb-AFuEYRUllBvnHJ~JC7O-DOJm6B6qtxGv29S0VeZM9L0jg8jiA35geexJLpBkNysjqfpOV15a0syrDRiOR2IaMg6YHNa9AtJzl73b3qccDPxPwXWbN-v2sNJHZ2pTH~obIHC9BzrxH5lT~NAhHDaI2idue7zvOv-Yk-HOt3~oDUaGgOW166obEZNbU4fwGelkg__&Key-Pair-Id=APKAIE5G5CRDK6RD3PGA',\n",
       " 'https://cdn.jamanetwork.com/ama/content_public/journal/jamanetworkopen/939381/zoi240554va_1719237655.21947.png?Expires=1722611380&Signature=QQknQuRzesIsk4f3y41RnwwiLko1WECRLUde1ycA5WjsbWdwxPAJXUB8U5w5-42d7w7-L7poP0n96n5~0RujzZvSb~U~La~668GcHgH1kVbqbAFXCX8MraM0DTnKNUkBA0CENChNAyT-eXjBCyLdHC~7Gi10EzpVVQLu~2sxgLe-L8bN1Ms9VKajuQ4M0pxK~LaScoYu4AOD75WdJE4oys~kQhvINWAsmLMKlnVkW-Wt4BQ-8~aLTUnIFADv5Kbs4pGP7m8i8b89jjeyTWNGqtVC8JpnrK2Wd7joYD7d3vzy8Cd6rZjmxkrr4dX0lwUxy8aCVsvpNF~yg3LEnF8yDg__&Key-Pair-Id=APKAIE5G5CRDK6RD3PGA',\n",
       " 'https://cdn.jamanetwork.com/ama/content_public/journal/jamanetworkopen/939381/zoi240554va_1719237655.21947.png?Expires=1722611380&Signature=QQknQuRzesIsk4f3y41RnwwiLko1WECRLUde1ycA5WjsbWdwxPAJXUB8U5w5-42d7w7-L7poP0n96n5~0RujzZvSb~U~La~668GcHgH1kVbqbAFXCX8MraM0DTnKNUkBA0CENChNAyT-eXjBCyLdHC~7Gi10EzpVVQLu~2sxgLe-L8bN1Ms9VKajuQ4M0pxK~LaScoYu4AOD75WdJE4oys~kQhvINWAsmLMKlnVkW-Wt4BQ-8~aLTUnIFADv5Kbs4pGP7m8i8b89jjeyTWNGqtVC8JpnrK2Wd7joYD7d3vzy8Cd6rZjmxkrr4dX0lwUxy8aCVsvpNF~yg3LEnF8yDg__&Key-Pair-Id=APKAIE5G5CRDK6RD3PGA']"
      ]
     },
     "execution_count": 19,
     "metadata": {},
     "output_type": "execute_result"
    }
   ],
   "source": [
    "fig_tab"
   ]
  },
  {
   "cell_type": "markdown",
   "id": "cc53f483-c9da-4fba-b391-21833727e43e",
   "metadata": {},
   "source": [
    "### Step 2: Downloading the images to a folder\n",
    "We then take in the links, send a request to the site for them, and download them as pngs to a folder on our desktop:"
   ]
  },
  {
   "cell_type": "code",
   "execution_count": 20,
   "id": "e4ad9856-f55b-491e-885f-e62915abac15",
   "metadata": {},
   "outputs": [],
   "source": [
    "os.chdir('Table_scraper')\n",
    "for i in range(len(fig_tab)):\n",
    "    path = f'{i}.png'\n",
    "    url = fig_tab[i]\n",
    "    r = requests.get(url, allow_redirects=True)\n",
    "    open(path, 'wb').write(r.content)"
   ]
  },
  {
   "cell_type": "markdown",
   "id": "2bfad233-8d6d-4a75-90a3-2709e7d3cbdc",
   "metadata": {},
   "source": [
    "### Step 3: Encoding the images so that they're ready for OpenAI \n",
    "It takes in base64 encoded images; this is just a function that we'll use in step 5"
   ]
  },
  {
   "cell_type": "code",
   "execution_count": 26,
   "id": "cf6fc8a3-66e1-4d07-8f69-6ef20f1bad39",
   "metadata": {},
   "outputs": [],
   "source": [
    "import base64\n",
    "def encode_image(image_path):\n",
    "  with open(image_path, \"rb\") as image_file:\n",
    "    return base64.b64encode(image_file.read()).decode('utf-8')\n"
   ]
  },
  {
   "cell_type": "markdown",
   "id": "39a5ea77-636a-431d-a2ce-673aaeeb920f",
   "metadata": {},
   "source": [
    "### Step 4: Forming the request structure to send to OpenAI\n",
    "The system message directs it on what to act like; the user content includes the question and the image itself. This is just a function that we'll use in the next step"
   ]
  },
  {
   "cell_type": "code",
   "execution_count": 58,
   "id": "dc674243-a839-41d4-93ba-3c4c3c7a9b16",
   "metadata": {},
   "outputs": [],
   "source": [
    "api_key = \"\" ### Input your API key here"
   ]
  },
  {
   "cell_type": "code",
   "execution_count": 22,
   "id": "0a157e01-0bb3-43f5-b6f8-7aa4890636fb",
   "metadata": {},
   "outputs": [],
   "source": [
    "def form_pay(base64_image, ques):\n",
    "    payload = {\n",
    "  \"model\": \"gpt-4o\",\n",
    "  \"messages\": [\n",
    "      {\"role\": \"system\",\n",
    "       \"content\": \"You help answer questions about images from academic papers. Return the answer as a JSON object.\"\n",
    "      },\n",
    "    {\n",
    "      \"role\": \"user\",\n",
    "      \"content\": [\n",
    "        {\n",
    "          \"type\": \"text\",\n",
    "          \"text\": ques\n",
    "        },\n",
    "        {\n",
    "          \"type\": \"image_url\",\n",
    "          \"image_url\": {\n",
    "            \"url\": f\"data:image/png;base64,{base64_image}\"\n",
    "          }\n",
    "        }\n",
    "      ]\n",
    "    }\n",
    "  ],\n",
    "  \"max_tokens\": 3000,\n",
    "    \"response_format\": { \"type\": \"json_object\" },\n",
    "    }\n",
    "    return payload\n"
   ]
  },
  {
   "cell_type": "markdown",
   "id": "9e3c7eb0-feb8-4ad8-86bb-a2645e671a4b",
   "metadata": {},
   "source": [
    "### Step 5: Asking OpenAI to differentiate between tables and figures\n",
    "We first need to know what is a table and what is a figure without having to open all the files ourselves. This loop runs through \n",
    "all of the images we downloaded, uses the function in step 3 to encode them, and then uses the function in step 4 to form a message to send\n",
    "to GPT. It then sends the message and extracts the response"
   ]
  },
  {
   "cell_type": "code",
   "execution_count": 44,
   "id": "b2de107b-fe42-4761-af10-491381b47da1",
   "metadata": {},
   "outputs": [
    {
     "name": "stdout",
     "output_type": "stream",
     "text": [
      "Not a table\n"
     ]
    }
   ],
   "source": [
    "headers = {\n",
    "  \"Content-Type\": \"application/json\",\n",
    "  \"Authorization\": f\"Bearer {api_key}\"\n",
    "}\n",
    "\n",
    "imgs = os.listdir()\n",
    "chk = []\n",
    "for i in range(0,len(imgs)):\n",
    "    base64_image = encode_image(imgs[i])\n",
    "    pay1 = form_pay(base64_image, \"Can you respond with whether this is a figure or a table from the paper? Respond in JSON format\")\n",
    "    try:\n",
    "        response = requests.post(\"https://api.openai.com/v1/chat/completions\", headers=headers, json=pay1)\n",
    "        check = response.json()['choices']\n",
    "        js = json.loads(check[0]['message']['content'])\n",
    "        js['File'] = imgs[i]\n",
    "        chk.append(js)\n",
    "    except:\n",
    "        print('Not a table')"
   ]
  },
  {
   "cell_type": "markdown",
   "id": "ca96fbe7-5c25-4b27-b93a-bdc65a07adc7",
   "metadata": {},
   "source": [
    "This is what the response looks like -- we can see that we have four tables and a bunch of figures"
   ]
  },
  {
   "cell_type": "code",
   "execution_count": 45,
   "id": "b08c1ba3-de7d-4ce2-917f-a692ad95f879",
   "metadata": {},
   "outputs": [
    {
     "data": {
      "text/plain": [
       "[{'type': 'table', 'File': '8.png'},\n",
       " {'type': 'table', 'File': '9.png'},\n",
       " {'type': 'figure', 'File': '15.png'},\n",
       " {'type': 'figure', 'File': '16.png'},\n",
       " {'type': 'table', 'File': '11.png'},\n",
       " {'type': 'table', 'File': '10.png'},\n",
       " {'type': 'figure', 'File': '4.png'},\n",
       " {'type': 'figure', 'File': '5.png'},\n",
       " {'type': 'figure', 'File': '7.png'},\n",
       " {'type': 'figure', 'File': '6.png'},\n",
       " {'type': 'figure', 'File': '2.png'},\n",
       " {'type': 'figure', 'File': '3.png'},\n",
       " {'type': 'figure', 'File': '1.png'},\n",
       " {'type': 'figure', 'File': '0.png'}]"
      ]
     },
     "execution_count": 45,
     "metadata": {},
     "output_type": "execute_result"
    }
   ],
   "source": [
    "chk"
   ]
  },
  {
   "cell_type": "markdown",
   "id": "9d8886e4-bd56-403f-83ad-3c8f42dc3cb7",
   "metadata": {},
   "source": [
    "### Step 6: Subsetting down to just table images"
   ]
  },
  {
   "cell_type": "code",
   "execution_count": 46,
   "id": "99e525c2-b2d9-49b1-bbdb-548c16f780c8",
   "metadata": {},
   "outputs": [],
   "source": [
    "tabs = []\n",
    "for i in chk:\n",
    "    if i['type'] == 'table':\n",
    "        tabs.append(i['File'])"
   ]
  },
  {
   "cell_type": "code",
   "execution_count": 47,
   "id": "ecf9b7c6-e8a8-492e-8a9e-1911c3896934",
   "metadata": {},
   "outputs": [
    {
     "data": {
      "text/plain": [
       "['8.png', '9.png', '11.png', '10.png']"
      ]
     },
     "execution_count": 47,
     "metadata": {},
     "output_type": "execute_result"
    }
   ],
   "source": [
    "tabs"
   ]
  },
  {
   "cell_type": "markdown",
   "id": "a2979e31-e29a-4762-9ef1-06cd9a97f547",
   "metadata": {},
   "source": [
    "### Step 7: Sending the four table images to GPT to scrape\n",
    "We use a pretty simple query (\"Can you put the table in this image into formatted JSON? Only return the JSON\"), but\n",
    "if we wanted the tables in a very specific JSON structure we could make it more complex"
   ]
  },
  {
   "cell_type": "code",
   "execution_count": 50,
   "id": "28ac39fb-83d7-41ae-ac59-53fe7eca9304",
   "metadata": {},
   "outputs": [],
   "source": [
    "tables = []\n",
    "for i in tabs:\n",
    "    base64_image = encode_image(i)\n",
    "    pay1 = form_pay(base64_image, \"Can you put the table in this image into formatted JSON? Only return the JSON\")\n",
    "    try:\n",
    "        response = requests.post(\"https://api.openai.com/v1/chat/completions\", headers=headers, json=pay1)\n",
    "        check = response.json()['choices']\n",
    "        js = json.loads(check[0]['message']['content'])\n",
    "        tables.append(js)\n",
    "    except:\n",
    "        print('Didnt work')"
   ]
  },
  {
   "cell_type": "markdown",
   "id": "a03918d7-058c-4f0f-8e7c-c90b4989f24a",
   "metadata": {},
   "source": [
    "This is what the response looks like for one of the table images"
   ]
  },
  {
   "cell_type": "code",
   "execution_count": 56,
   "id": "48faa771-c034-4c43-b7a9-a63aafccdd02",
   "metadata": {},
   "outputs": [
    {
     "data": {
      "text/plain": [
       "{'Table 1': {'Baseline Characteristics and Perioperative Variables': {'Group S (n = 233)': {'Age, mean (SD), y': '48.2 (10.9)',\n",
       "    'Sex': {'Female': '107 (45.9)', 'Male': '126 (54.1)'},\n",
       "    'BMI, mean (SD)': '23.3 (2.9)',\n",
       "    'ASA health status': {'1': '73 (31.3)',\n",
       "     '2': '130 (55.8)',\n",
       "     '3': '30 (12.9)'},\n",
       "    'ARISCAT score': {'Low risk': '62 (26.6)',\n",
       "     'Moderate risk': '166 (71.2)',\n",
       "     'High risk': '5 (2.1)'},\n",
       "    'CCI': {'0': '146 (62.7)',\n",
       "     '1-2': '56 (24.0)',\n",
       "     '3-4': '22 (9.4)',\n",
       "     '≥5': '5 (2.1)'},\n",
       "    'Current smoker': '34 (14.6)',\n",
       "    'Alcohol misuse': '10 (4.3)',\n",
       "    'Hypertension': '29 (9.9)',\n",
       "    'Long-term opioid use for chronic pain': '10 (4.3)',\n",
       "    'Type 2 diabetes': '11 (4.7)',\n",
       "    'Anesthesia time, mean (SD), h': '4.5 (1.1)',\n",
       "    'Duration of surgery, mean (SD), h': '3.7 (1.0)',\n",
       "    'Intraoperative opioid use, mean (SD), morphine equivalents': '27.9 (7.2)',\n",
       "    'Tidal volume, mean (SD), mL/kg of predicted body weight': {'Start of surgery': '7.0 (0.7)',\n",
       "     'End of surgery': '7.1 (0.7)'},\n",
       "    'PEEP, mean (SD), cm H2O': {'Start of surgery': '6.0 (0.8)',\n",
       "     'End of surgery': '6.4 (0.8)'},\n",
       "    'Plateau pressure, mean (SD), cm H2O': {'Start of surgery': '14.9 (3.2)',\n",
       "     'End of surgery': '15.0 (3.0)'},\n",
       "    'Fluid administered, median (IQR), mL': {'Crystalloids': '1950 (1750-2150)',\n",
       "     'Colloids': '700 (600-800)'},\n",
       "    'Blood loss, median (IQR), mL': '350 (250-460)',\n",
       "    'Blood transfusion': '22 (9.4)',\n",
       "    'Use of nasogastric tube': '53 (22.7)'},\n",
       "   'Group F (n = 233)': {'Age, mean (SD), y': '48.1 (10.9)',\n",
       "    'Sex': {'Female': '111 (47.6)', 'Male': '122 (52.4)'},\n",
       "    'BMI, mean (SD)': '23.3 (2.9)',\n",
       "    'ASA health status': {'1': '70 (30.0)',\n",
       "     '2': '134 (57.5)',\n",
       "     '3': '29 (12.4)'},\n",
       "    'ARISCAT score': {'Low risk': '64 (27.5)',\n",
       "     'Moderate risk': '164 (70.4)',\n",
       "     'High risk': '5 (2.1)'},\n",
       "    'CCI': {'0': '141 (60.5)',\n",
       "     '1-2': '67 (28.8)',\n",
       "     '3-4': '19 (8.2)',\n",
       "     '≥5': '6 (2.6)'},\n",
       "    'Current smoker': '34 (14.6)',\n",
       "    'Alcohol misuse': '8 (3.4)',\n",
       "    'Hypertension': '21 (9.0)',\n",
       "    'Long-term opioid use for chronic pain': '12 (5.2)',\n",
       "    'Type 2 diabetes': '11 (4.7)',\n",
       "    'Anesthesia time, mean (SD), h': '4.5 (1.0)',\n",
       "    'Duration of surgery, mean (SD), h': '3.7 (1.0)',\n",
       "    'Intraoperative opioid use, mean (SD), morphine equivalents': '27.2 (7.9)',\n",
       "    'Tidal volume, mean (SD), mL/kg of predicted body weight': {'Start of surgery': '7.1 (0.7)',\n",
       "     'End of surgery': '7.1 (0.7)'},\n",
       "    'PEEP, mean (SD), cm H2O': {'Start of surgery': '6.4 (0.8)',\n",
       "     'End of surgery': '6.4 (0.8)'},\n",
       "    'Plateau pressure, mean (SD), cm H2O': {'Start of surgery': '15.0 (3.5)',\n",
       "     'End of surgery': '15.2 (3.6)'},\n",
       "    'Fluid administered, median (IQR), mL': {'Crystalloids': '2000 (1750-2200)',\n",
       "     'Colloids': '700 (600-800)'},\n",
       "    'Blood loss, median (IQR), mL': '360 (260-480)',\n",
       "    'Blood transfusion': '32 (9.4)',\n",
       "    'Use of nasogastric tube': '55 (23.6)'},\n",
       "   'Group T (n = 234)': {'Age, mean (SD), y': '47.2 (12.1)',\n",
       "    'Sex': {'Female': '118 (50.4)', 'Male': '116 (49.6)'},\n",
       "    'BMI, mean (SD)': '23.3 (2.8)',\n",
       "    'ASA health status': {'1': '73 (31.2)',\n",
       "     '2': '129 (55.1)',\n",
       "     '3': '32 (13.7)'},\n",
       "    'ARISCAT score': {'Low risk': '67 (28.6)',\n",
       "     'Moderate risk': '161 (68.8)',\n",
       "     'High risk': '6 (2.6)'},\n",
       "    'CCI': {'0': '143 (61.1)',\n",
       "     '1-2': '63 (26.9)',\n",
       "     '3-4': '21 (9.0)',\n",
       "     '≥5': '7 (3.0)'},\n",
       "    'Current smoker': '32 (13.7)',\n",
       "    'Alcohol misuse': '11 (4.7)',\n",
       "    'Hypertension': '25 (10.7)',\n",
       "    'Long-term opioid use for chronic pain': '13 (5.6)',\n",
       "    'Type 2 diabetes': '15 (6.4)',\n",
       "    'Anesthesia time, mean (SD), h': '4.4 (1.0)',\n",
       "    'Duration of surgery, mean (SD), h': '3.6 (1.0)',\n",
       "    'Intraoperative opioid use, mean (SD), morphine equivalents': '27.3 (8.2)',\n",
       "    'Tidal volume, mean (SD), mL/kg of predicted body weight': {'Start of surgery': '7.1 (0.7)',\n",
       "     'End of surgery': '7.0 (0.7)'},\n",
       "    'PEEP, mean (SD), cm H2O': {'Start of surgery': '6.4 (0.9)',\n",
       "     'End of surgery': '6.3 (0.9)'},\n",
       "    'Plateau pressure, mean (SD), cm H2O': {'Start of surgery': '15.2 (3.6)',\n",
       "     'End of surgery': '15.4 (3.0)'},\n",
       "    'Fluid administered, median (IQR), mL': {'Crystalloids': '1900 (1750-2200)',\n",
       "     'Colloids': '700 (600-850)'},\n",
       "    'Blood loss, median (IQR), mL': '355 (250-480)',\n",
       "    'Blood transfusion': '34 (14.5)',\n",
       "    'Use of nasogastric tube': '51 (21.8)'}}}}"
      ]
     },
     "execution_count": 56,
     "metadata": {},
     "output_type": "execute_result"
    }
   ],
   "source": [
    "tables[1]"
   ]
  },
  {
   "cell_type": "markdown",
   "id": "f97f425c-2236-43f6-9c98-580fbd164eff",
   "metadata": {},
   "source": [
    "### Step 8: Turning into dataframe\n",
    "We can then turn our structured JSON easily into a dataframe that has column and row names that are easy to use:"
   ]
  },
  {
   "cell_type": "code",
   "execution_count": 57,
   "id": "e4c1e1a8-41e9-4f36-8f00-75e06b5bc3e5",
   "metadata": {},
   "outputs": [
    {
     "data": {
      "text/html": [
       "<div>\n",
       "<style scoped>\n",
       "    .dataframe tbody tr th:only-of-type {\n",
       "        vertical-align: middle;\n",
       "    }\n",
       "\n",
       "    .dataframe tbody tr th {\n",
       "        vertical-align: top;\n",
       "    }\n",
       "\n",
       "    .dataframe thead th {\n",
       "        text-align: right;\n",
       "    }\n",
       "</style>\n",
       "<table border=\"1\" class=\"dataframe\">\n",
       "  <thead>\n",
       "    <tr style=\"text-align: right;\">\n",
       "      <th></th>\n",
       "      <th>Group S (n = 233)</th>\n",
       "      <th>Group F (n = 233)</th>\n",
       "      <th>Group T (n = 234)</th>\n",
       "    </tr>\n",
       "  </thead>\n",
       "  <tbody>\n",
       "    <tr>\n",
       "      <th>Age, mean (SD), y</th>\n",
       "      <td>48.2 (10.9)</td>\n",
       "      <td>48.1 (10.9)</td>\n",
       "      <td>47.2 (12.1)</td>\n",
       "    </tr>\n",
       "    <tr>\n",
       "      <th>Sex</th>\n",
       "      <td>{'Female': '107 (45.9)', 'Male': '126 (54.1)'}</td>\n",
       "      <td>{'Female': '111 (47.6)', 'Male': '122 (52.4)'}</td>\n",
       "      <td>{'Female': '118 (50.4)', 'Male': '116 (49.6)'}</td>\n",
       "    </tr>\n",
       "    <tr>\n",
       "      <th>BMI, mean (SD)</th>\n",
       "      <td>23.3 (2.9)</td>\n",
       "      <td>23.3 (2.9)</td>\n",
       "      <td>23.3 (2.8)</td>\n",
       "    </tr>\n",
       "    <tr>\n",
       "      <th>ASA health status</th>\n",
       "      <td>{'1': '73 (31.3)', '2': '130 (55.8)', '3': '30...</td>\n",
       "      <td>{'1': '70 (30.0)', '2': '134 (57.5)', '3': '29...</td>\n",
       "      <td>{'1': '73 (31.2)', '2': '129 (55.1)', '3': '32...</td>\n",
       "    </tr>\n",
       "    <tr>\n",
       "      <th>ARISCAT score</th>\n",
       "      <td>{'Low risk': '62 (26.6)', 'Moderate risk': '16...</td>\n",
       "      <td>{'Low risk': '64 (27.5)', 'Moderate risk': '16...</td>\n",
       "      <td>{'Low risk': '67 (28.6)', 'Moderate risk': '16...</td>\n",
       "    </tr>\n",
       "    <tr>\n",
       "      <th>CCI</th>\n",
       "      <td>{'0': '146 (62.7)', '1-2': '56 (24.0)', '3-4':...</td>\n",
       "      <td>{'0': '141 (60.5)', '1-2': '67 (28.8)', '3-4':...</td>\n",
       "      <td>{'0': '143 (61.1)', '1-2': '63 (26.9)', '3-4':...</td>\n",
       "    </tr>\n",
       "    <tr>\n",
       "      <th>Current smoker</th>\n",
       "      <td>34 (14.6)</td>\n",
       "      <td>34 (14.6)</td>\n",
       "      <td>32 (13.7)</td>\n",
       "    </tr>\n",
       "    <tr>\n",
       "      <th>Alcohol misuse</th>\n",
       "      <td>10 (4.3)</td>\n",
       "      <td>8 (3.4)</td>\n",
       "      <td>11 (4.7)</td>\n",
       "    </tr>\n",
       "    <tr>\n",
       "      <th>Hypertension</th>\n",
       "      <td>29 (9.9)</td>\n",
       "      <td>21 (9.0)</td>\n",
       "      <td>25 (10.7)</td>\n",
       "    </tr>\n",
       "    <tr>\n",
       "      <th>Long-term opioid use for chronic pain</th>\n",
       "      <td>10 (4.3)</td>\n",
       "      <td>12 (5.2)</td>\n",
       "      <td>13 (5.6)</td>\n",
       "    </tr>\n",
       "    <tr>\n",
       "      <th>Type 2 diabetes</th>\n",
       "      <td>11 (4.7)</td>\n",
       "      <td>11 (4.7)</td>\n",
       "      <td>15 (6.4)</td>\n",
       "    </tr>\n",
       "    <tr>\n",
       "      <th>Anesthesia time, mean (SD), h</th>\n",
       "      <td>4.5 (1.1)</td>\n",
       "      <td>4.5 (1.0)</td>\n",
       "      <td>4.4 (1.0)</td>\n",
       "    </tr>\n",
       "    <tr>\n",
       "      <th>Duration of surgery, mean (SD), h</th>\n",
       "      <td>3.7 (1.0)</td>\n",
       "      <td>3.7 (1.0)</td>\n",
       "      <td>3.6 (1.0)</td>\n",
       "    </tr>\n",
       "    <tr>\n",
       "      <th>Intraoperative opioid use, mean (SD), morphine equivalents</th>\n",
       "      <td>27.9 (7.2)</td>\n",
       "      <td>27.2 (7.9)</td>\n",
       "      <td>27.3 (8.2)</td>\n",
       "    </tr>\n",
       "    <tr>\n",
       "      <th>Tidal volume, mean (SD), mL/kg of predicted body weight</th>\n",
       "      <td>{'Start of surgery': '7.0 (0.7)', 'End of surg...</td>\n",
       "      <td>{'Start of surgery': '7.1 (0.7)', 'End of surg...</td>\n",
       "      <td>{'Start of surgery': '7.1 (0.7)', 'End of surg...</td>\n",
       "    </tr>\n",
       "    <tr>\n",
       "      <th>PEEP, mean (SD), cm H2O</th>\n",
       "      <td>{'Start of surgery': '6.0 (0.8)', 'End of surg...</td>\n",
       "      <td>{'Start of surgery': '6.4 (0.8)', 'End of surg...</td>\n",
       "      <td>{'Start of surgery': '6.4 (0.9)', 'End of surg...</td>\n",
       "    </tr>\n",
       "    <tr>\n",
       "      <th>Plateau pressure, mean (SD), cm H2O</th>\n",
       "      <td>{'Start of surgery': '14.9 (3.2)', 'End of sur...</td>\n",
       "      <td>{'Start of surgery': '15.0 (3.5)', 'End of sur...</td>\n",
       "      <td>{'Start of surgery': '15.2 (3.6)', 'End of sur...</td>\n",
       "    </tr>\n",
       "    <tr>\n",
       "      <th>Fluid administered, median (IQR), mL</th>\n",
       "      <td>{'Crystalloids': '1950 (1750-2150)', 'Colloids...</td>\n",
       "      <td>{'Crystalloids': '2000 (1750-2200)', 'Colloids...</td>\n",
       "      <td>{'Crystalloids': '1900 (1750-2200)', 'Colloids...</td>\n",
       "    </tr>\n",
       "    <tr>\n",
       "      <th>Blood loss, median (IQR), mL</th>\n",
       "      <td>350 (250-460)</td>\n",
       "      <td>360 (260-480)</td>\n",
       "      <td>355 (250-480)</td>\n",
       "    </tr>\n",
       "    <tr>\n",
       "      <th>Blood transfusion</th>\n",
       "      <td>22 (9.4)</td>\n",
       "      <td>32 (9.4)</td>\n",
       "      <td>34 (14.5)</td>\n",
       "    </tr>\n",
       "    <tr>\n",
       "      <th>Use of nasogastric tube</th>\n",
       "      <td>53 (22.7)</td>\n",
       "      <td>55 (23.6)</td>\n",
       "      <td>51 (21.8)</td>\n",
       "    </tr>\n",
       "  </tbody>\n",
       "</table>\n",
       "</div>"
      ],
      "text/plain": [
       "                                                                                    Group S (n = 233)  \\\n",
       "Age, mean (SD), y                                                                         48.2 (10.9)   \n",
       "Sex                                                    {'Female': '107 (45.9)', 'Male': '126 (54.1)'}   \n",
       "BMI, mean (SD)                                                                             23.3 (2.9)   \n",
       "ASA health status                                   {'1': '73 (31.3)', '2': '130 (55.8)', '3': '30...   \n",
       "ARISCAT score                                       {'Low risk': '62 (26.6)', 'Moderate risk': '16...   \n",
       "CCI                                                 {'0': '146 (62.7)', '1-2': '56 (24.0)', '3-4':...   \n",
       "Current smoker                                                                              34 (14.6)   \n",
       "Alcohol misuse                                                                               10 (4.3)   \n",
       "Hypertension                                                                                 29 (9.9)   \n",
       "Long-term opioid use for chronic pain                                                        10 (4.3)   \n",
       "Type 2 diabetes                                                                              11 (4.7)   \n",
       "Anesthesia time, mean (SD), h                                                               4.5 (1.1)   \n",
       "Duration of surgery, mean (SD), h                                                           3.7 (1.0)   \n",
       "Intraoperative opioid use, mean (SD), morphine ...                                         27.9 (7.2)   \n",
       "Tidal volume, mean (SD), mL/kg of predicted bod...  {'Start of surgery': '7.0 (0.7)', 'End of surg...   \n",
       "PEEP, mean (SD), cm H2O                             {'Start of surgery': '6.0 (0.8)', 'End of surg...   \n",
       "Plateau pressure, mean (SD), cm H2O                 {'Start of surgery': '14.9 (3.2)', 'End of sur...   \n",
       "Fluid administered, median (IQR), mL                {'Crystalloids': '1950 (1750-2150)', 'Colloids...   \n",
       "Blood loss, median (IQR), mL                                                            350 (250-460)   \n",
       "Blood transfusion                                                                            22 (9.4)   \n",
       "Use of nasogastric tube                                                                     53 (22.7)   \n",
       "\n",
       "                                                                                    Group F (n = 233)  \\\n",
       "Age, mean (SD), y                                                                         48.1 (10.9)   \n",
       "Sex                                                    {'Female': '111 (47.6)', 'Male': '122 (52.4)'}   \n",
       "BMI, mean (SD)                                                                             23.3 (2.9)   \n",
       "ASA health status                                   {'1': '70 (30.0)', '2': '134 (57.5)', '3': '29...   \n",
       "ARISCAT score                                       {'Low risk': '64 (27.5)', 'Moderate risk': '16...   \n",
       "CCI                                                 {'0': '141 (60.5)', '1-2': '67 (28.8)', '3-4':...   \n",
       "Current smoker                                                                              34 (14.6)   \n",
       "Alcohol misuse                                                                                8 (3.4)   \n",
       "Hypertension                                                                                 21 (9.0)   \n",
       "Long-term opioid use for chronic pain                                                        12 (5.2)   \n",
       "Type 2 diabetes                                                                              11 (4.7)   \n",
       "Anesthesia time, mean (SD), h                                                               4.5 (1.0)   \n",
       "Duration of surgery, mean (SD), h                                                           3.7 (1.0)   \n",
       "Intraoperative opioid use, mean (SD), morphine ...                                         27.2 (7.9)   \n",
       "Tidal volume, mean (SD), mL/kg of predicted bod...  {'Start of surgery': '7.1 (0.7)', 'End of surg...   \n",
       "PEEP, mean (SD), cm H2O                             {'Start of surgery': '6.4 (0.8)', 'End of surg...   \n",
       "Plateau pressure, mean (SD), cm H2O                 {'Start of surgery': '15.0 (3.5)', 'End of sur...   \n",
       "Fluid administered, median (IQR), mL                {'Crystalloids': '2000 (1750-2200)', 'Colloids...   \n",
       "Blood loss, median (IQR), mL                                                            360 (260-480)   \n",
       "Blood transfusion                                                                            32 (9.4)   \n",
       "Use of nasogastric tube                                                                     55 (23.6)   \n",
       "\n",
       "                                                                                    Group T (n = 234)  \n",
       "Age, mean (SD), y                                                                         47.2 (12.1)  \n",
       "Sex                                                    {'Female': '118 (50.4)', 'Male': '116 (49.6)'}  \n",
       "BMI, mean (SD)                                                                             23.3 (2.8)  \n",
       "ASA health status                                   {'1': '73 (31.2)', '2': '129 (55.1)', '3': '32...  \n",
       "ARISCAT score                                       {'Low risk': '67 (28.6)', 'Moderate risk': '16...  \n",
       "CCI                                                 {'0': '143 (61.1)', '1-2': '63 (26.9)', '3-4':...  \n",
       "Current smoker                                                                              32 (13.7)  \n",
       "Alcohol misuse                                                                               11 (4.7)  \n",
       "Hypertension                                                                                25 (10.7)  \n",
       "Long-term opioid use for chronic pain                                                        13 (5.6)  \n",
       "Type 2 diabetes                                                                              15 (6.4)  \n",
       "Anesthesia time, mean (SD), h                                                               4.4 (1.0)  \n",
       "Duration of surgery, mean (SD), h                                                           3.6 (1.0)  \n",
       "Intraoperative opioid use, mean (SD), morphine ...                                         27.3 (8.2)  \n",
       "Tidal volume, mean (SD), mL/kg of predicted bod...  {'Start of surgery': '7.1 (0.7)', 'End of surg...  \n",
       "PEEP, mean (SD), cm H2O                             {'Start of surgery': '6.4 (0.9)', 'End of surg...  \n",
       "Plateau pressure, mean (SD), cm H2O                 {'Start of surgery': '15.2 (3.6)', 'End of sur...  \n",
       "Fluid administered, median (IQR), mL                {'Crystalloids': '1900 (1750-2200)', 'Colloids...  \n",
       "Blood loss, median (IQR), mL                                                            355 (250-480)  \n",
       "Blood transfusion                                                                           34 (14.5)  \n",
       "Use of nasogastric tube                                                                     51 (21.8)  "
      ]
     },
     "execution_count": 57,
     "metadata": {},
     "output_type": "execute_result"
    }
   ],
   "source": [
    "pd.DataFrame(tables[1]['Table 1']['Baseline Characteristics and Perioperative Variables'])"
   ]
  }
 ],
 "metadata": {
  "kernelspec": {
   "display_name": "Python 3 (ipykernel)",
   "language": "python",
   "name": "python3"
  },
  "language_info": {
   "codemirror_mode": {
    "name": "ipython",
    "version": 3
   },
   "file_extension": ".py",
   "mimetype": "text/x-python",
   "name": "python",
   "nbconvert_exporter": "python",
   "pygments_lexer": "ipython3",
   "version": "3.11.7"
  }
 },
 "nbformat": 4,
 "nbformat_minor": 5
}
